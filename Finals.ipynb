{
  "metadata": {
    "kernelspec": {
      "name": "python",
      "display_name": "Python (Pyodide)",
      "language": "python"
    },
    "language_info": {
      "codemirror_mode": {
        "name": "python",
        "version": 3
      },
      "file_extension": ".py",
      "mimetype": "text/x-python",
      "name": "python",
      "nbconvert_exporter": "python",
      "pygments_lexer": "ipython3",
      "version": "3.8"
    }
  },
  "nbformat_minor": 4,
  "nbformat": 4,
  "cells": [
    {
      "cell_type": "code",
      "source": "import dialogflow_v2 as dialogflow\nfrom google.oauth2 import service_account\n\n# Initialize Dialogflow session\ndef initialize_dialogflow(project_id, session_id, credentials_path):\n    credentials = service_account.Credentials.from_service_account_file(credentials_path)\n    session_client = dialogflow.SessionsClient(credentials=credentials)\n    session = session_client.session_path(project_id, session_id)\n    return session_client, session\n\n# Function to detect intent\ndef detect_intent_texts(session_client, session, texts, language_code='en'):\n    for text in texts:\n        text_input = dialogflow.types.TextInput(text=text, language_code=language_code)\n        query_input = dialogflow.types.QueryInput(text=text_input)\n        response = session_client.detect_intent(request={\"session\": session, \"query_input\": query_input})\n        \n        print(f\"Query Text: {response.query_result.query_text}\")\n        print(f\"Detected Intent: {response.query_result.intent.display_name}\")\n        print(f\"Response Text: {response.query_result.fulfillment_text}\")\n        return response.query_result.fulfillment_text\n\n# Appointment scheduling intent handler\ndef handle_appointment_booking(session_client, session):\n    print(\"Handling appointment booking...\")\n    user_query = input(\"Enter appointment details (e.g., 'Book an appointment on Dec 20 at 3 PM with Dr. Smith'): \")\n    response = detect_intent_texts(session_client, session, [user_query])\n    print(f\"Bot Response: {response}\")\n\n# Medication reminder intent handler\ndef handle_medication_reminder(session_client, session):\n    print(\"Handling medication reminder...\")\n    user_query = input(\"Enter reminder request (e.g., 'Set a reminder for Ibuprofen at 8 PM daily'): \")\n    response = detect_intent_texts(session_client, session, [user_query])\n    print(f\"Bot Response: {response}\")\n\n# Health information intent handler\ndef handle_health_query(session_client, session):\n    print(\"Handling health query...\")\n    user_query = input(\"Enter your question (e.g., 'What are the side effects of Ibuprofen?'): \")\n    response = detect_intent_texts(session_client, session, [user_query])\n    print(f\"Bot Response: {response}\")\n\n# Main function\ndef main():\n    project_id = \"your-dialogflow-project-id\"\n    session_id = \"current-session-id\"\n    credentials_path = \"path/to/your/service-account-key.json\"\n\n    session_client, session = initialize_dialogflow(project_id, session_id, credentials_path)\n\n    while True:\n        print(\"\\nOptions:\")\n        print(\"1. Book Appointment\")\n        print(\"2. Set Medication Reminder\")\n        print(\"3. Ask Health Question\")\n        print(\"4. Exit\")\n        choice = input(\"Enter your choice: \")\n\n        if choice == '1':\n            handle_appointment_booking(session_client, session)\n        elif choice == '2':\n            handle_medication_reminder(session_client, session)\n        elif choice == '3':\n            handle_health_query(session_client, session)\n        elif choice == '4':\n            print(\"Exiting WellCare Assistant. Stay healthy!\")\n            break\n        else:\n            print(\"Invalid choice. Please try again.\")\n\nif __name__ == \"__main__\":\n    main()\n",
      "metadata": {
        "trusted": true
      },
      "outputs": [],
      "execution_count": null
    }
  ]
}